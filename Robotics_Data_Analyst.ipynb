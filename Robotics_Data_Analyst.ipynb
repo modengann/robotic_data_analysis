{
  "nbformat": 4,
  "nbformat_minor": 0,
  "metadata": {
    "colab": {
      "provenance": []
    },
    "kernelspec": {
      "name": "python3",
      "display_name": "Python 3"
    },
    "language_info": {
      "name": "python"
    }
  },
  "cells": [
    {
      "cell_type": "markdown",
      "source": [
        "#Robotics Data Analyst\n",
        "In this activity, you are taking on the role of a Data Analyst for a Robotics Tournament. Your job is to clean up messy information about teams, matches, scores, and workshops so the event can run smoothly. You’ll decide which Python data structures (lists, dictionaries, tuples, and sets) are the best tools for different tasks—like sorting schedules, adding up scores, or checking for mistakes. Just like a real analyst, you’ll need to think carefully about how to organize data so it’s accurate, efficient, and easy to use.<br><br>\n",
        "\n",
        "Your audience for this is someone who doesn't know about code, but wants to see how you got your results. They don't just want to see you write a paper with no supporting code to back it up, but they also don't want to see a big block of code with no support explanation. <br><br>\n",
        "\n",
        "A key part of your job is to do the analysis, but also to explain your work. The final report should be a very intentional mix of code with text. **You should not have giant blocks of code**. Every 2-4 lines should include some explanation of what you are doing."
      ],
      "metadata": {
        "id": "nKdphsd-PE8H"
      }
    },
    {
      "cell_type": "code",
      "execution_count": null,
      "metadata": {
        "id": "6B5UsY3QFZSP"
      },
      "outputs": [],
      "source": [
        "# teams.csv-like rows you parsed already:\n",
        "raw_teams = [\n",
        "    (\"HHS-1729\", \"Hudson HS\", (\"Ada\", \"ada@hudsonhs.org\"), (\"Lin\", \"lin@hudsonhs.org\")),\n",
        "    (\"FRM-101\",  \"Framingham HS\", (\"Sam\", \"sam@frhs.org\"), (\"Tess\", \"tess@frhs.org\")),\n",
        "    (\"MRB-88\",   \"Marlborough HS\", (\"Kai\", \"kai@mrbhs.org\"), (\"Ada\", \"ada@hudsonhs.org\")),  # oops: duplicate mentor email across teams\n",
        "    (\"WBY-77\",   \"Westborough HS\", (\"Ira\", \"ira@wby.org\"), (\"Mo\", \"mo@wby.org\")),\n",
        "]\n",
        "\n",
        "# provisional match schedule (field, start_time, teamA, teamB). Times are ISO strings.\n",
        "raw_matches = [\n",
        "    (\"Field-2\", \"2025-09-27T09:30\", \"FRM-101\", \"MRB-88\"),\n",
        "    (\"Field-1\", \"2025-09-27T09:30\", \"HHS-1729\", \"WBY-77\"),\n",
        "    (\"Field-1\", \"2025-09-27T10:15\", \"FRM-101\", \"HHS-1729\"),\n",
        "    (\"Field-2\", \"2025-09-27T10:15\", \"MRB-88\", \"WBY-77\"),\n",
        "    (\"Field-1\", \"2025-09-27T11:00\", \"MRB-88\", \"HHS-1729\"),\n",
        "]\n",
        "\n",
        "# reported scores coming in from refs (team_id -> points for that match)\n",
        "# multiple rows per match; some typos/duplicates possible\n",
        "raw_scores = [\n",
        "    {\"time\": \"2025-09-27T09:30\", \"field\": \"Field-1\", \"scores\": {\"HHS-1729\": 18, \"WBY-77\": 22}},\n",
        "    {\"time\": \"2025-09-27T09:30\", \"field\": \"Field-2\", \"scores\": {\"FRM-101\": 25, \"MRB-88\": 25}},  # tie\n",
        "    {\"time\": \"2025-09-27T10:15\", \"field\": \"Field-1\", \"scores\": {\"FRM-101\": 31, \"HHS-1729\": 17}},\n",
        "    {\"time\": \"2025-09-27T10:15\", \"field\": \"Field-2\", \"scores\": {\"MRB-88\": 27, \"WBY-77\": 27}},   # tie\n",
        "    {\"time\": \"2025-09-27T11:00\", \"field\": \"Field-1\", \"scores\": {\"MRB-88\": 19, \"HHS-1729\": 22}},\n",
        "]\n",
        "\n",
        "# workshop signups: (participant_email, workshop_code)\n",
        "raw_workshops = [\n",
        "    (\"ada@hudsonhs.org\", \"VIS\"), (\"lin@hudsonhs.org\", \"PID\"),\n",
        "    (\"sam@frhs.org\", \"PID\"), (\"tess@frhs.org\", \"PID\"),\n",
        "    (\"kai@mrbhs.org\", \"PID\"), (\"ira@wby.org\", \"VIS\"), (\"mo@wby.org\", \"VIS\"),\n",
        "    (\"ada@hudsonhs.org\", \"PID\"),  # duplicate signup; should count once per workshop\n",
        "]\n",
        "workshop_caps = {\"PID\": 4, \"VIS\": 3}  # PID control lab; Vision workshop\n"
      ]
    },
    {
      "cell_type": "markdown",
      "source": [
        "Whenever you are getting to work with data, you should first explore it. We will get more tools for doing this as we learn more, but we can still investigate this. In the space below, you have a couple different coding fields to work with. In that space, I want you to show evidence that you have explored these lists. That can be:\n",
        "\n",
        "\n",
        "*   Looping through the lists printing items\n",
        "*   Using type() to confirm data types\n",
        "*   Using other tools such as len(), min(), max() to find key data points\n",
        "*   Looking at individual dictionaries to confirm that you know how they work. <br>\n",
        "You can add additional entries by hitting the 'b' key. After each code block, insert a short written block to explain what you found.\n",
        "\n",
        "\n",
        "\n",
        "\n"
      ],
      "metadata": {
        "id": "x8CLGqoFFg1u"
      }
    },
    {
      "cell_type": "code",
      "source": [],
      "metadata": {
        "id": "IBegG1wHGs91"
      },
      "execution_count": null,
      "outputs": []
    },
    {
      "cell_type": "markdown",
      "source": [],
      "metadata": {
        "id": "Nm1dcAtoG3gf"
      }
    },
    {
      "cell_type": "code",
      "source": [],
      "metadata": {
        "id": "91svj1uKGiZ0"
      },
      "execution_count": null,
      "outputs": []
    },
    {
      "cell_type": "markdown",
      "source": [],
      "metadata": {
        "id": "5PfhS3aKG4Uk"
      }
    },
    {
      "cell_type": "code",
      "source": [],
      "metadata": {
        "id": "ebQD7jtrGjg3"
      },
      "execution_count": null,
      "outputs": []
    },
    {
      "cell_type": "markdown",
      "source": [],
      "metadata": {
        "id": "0JpMQdUXHGEs"
      }
    },
    {
      "cell_type": "code",
      "source": [],
      "metadata": {
        "id": "u_xTH1S9G6jN"
      },
      "execution_count": null,
      "outputs": []
    },
    {
      "cell_type": "code",
      "source": [],
      "metadata": {
        "id": "XipyZ_HeHB9U"
      },
      "execution_count": null,
      "outputs": []
    },
    {
      "cell_type": "markdown",
      "source": [
        "#Part A — Choose representations (immutability vs. mutability)\n",
        "\n",
        "1. Participants/teams: Convert each raw_teams row into a record you won’t accidentally mutate (e.g., for stable IDs).\n",
        "*   Construct a structure for each team where the team code and school name are fixed, and mentors are stored as fixed pairs.\n",
        "*   **Deliverable**: a collection of team records; **justify** why **tuples** (possibly nested) are appropriate for the atomic “record” parts.\n",
        "*   *Hint*: immutable records (tuples) are often used as fixed keys or row-like containers.\n",
        "\n",
        "\n",
        "2. Build a fast lookup from team code → school/mentors.\n",
        "*   **Deliverable**: a dictionary mapping `team_id` to a collection of information about that team. Information included should: which school is represented by the id and the team's mentors. We'll deal with points and records later"
      ],
      "metadata": {
        "id": "ghDQjwkrHEgE"
      }
    },
    {
      "cell_type": "code",
      "source": [
        "#Complete #1 below"
      ],
      "metadata": {
        "id": "OVHDz11xIL1-"
      },
      "execution_count": null,
      "outputs": []
    },
    {
      "cell_type": "markdown",
      "source": [
        "Use this space to justify why tuples made sense"
      ],
      "metadata": {
        "id": "KEXLowQCIPaA"
      }
    },
    {
      "cell_type": "code",
      "source": [
        "#Complete #2 below"
      ],
      "metadata": {
        "id": "QM9OgkLVIMW3"
      },
      "execution_count": null,
      "outputs": []
    },
    {
      "cell_type": "markdown",
      "source": [
        "Use this space to justify your choice in data structure"
      ],
      "metadata": {
        "id": "6tZvRBazIUU8"
      }
    },
    {
      "cell_type": "markdown",
      "source": [
        "#Part B - Sort a mixed schedule\n",
        "\n",
        "Clean and sort `raw_matches` by **start_time** then **field** (so ties on time are broken alphabetically by field). We'll talk a bit more about how to do that below.\n",
        "\n",
        "*   **Deliverable**: a list of normalized match tuples"
      ],
      "metadata": {
        "id": "MtDKvyYoIaTq"
      }
    },
    {
      "cell_type": "markdown",
      "source": [
        "In this task, we need to do multi-sorting. We might find that two matches have the same start time, which could cause a jam in our sorting. We need to break that jam by sorting using two factors. We can do that by creating an extra function to help us:\n"
      ],
      "metadata": {
        "id": "zIl51MpFKSyq"
      }
    },
    {
      "cell_type": "code",
      "source": [
        "def sorting_key(match):\n",
        "  #Return a tuple where the first element is the time of the match and the second is the field number\n",
        "  pass"
      ],
      "metadata": {
        "id": "rp839VzxK4lj"
      },
      "execution_count": null,
      "outputs": []
    },
    {
      "cell_type": "markdown",
      "source": [
        "If done correctly, we should see `(\"2025-09-27T09:30\", \"Field-2\")`as the output from the function below:"
      ],
      "metadata": {
        "id": "eByhciXyLtxQ"
      }
    },
    {
      "cell_type": "code",
      "source": [
        "print(sorting_key(raw_matches[0]))"
      ],
      "metadata": {
        "id": "1BQHxzf1L7YS"
      },
      "execution_count": null,
      "outputs": []
    },
    {
      "cell_type": "markdown",
      "source": [
        "We can then apply this function to our sorting method:"
      ],
      "metadata": {
        "id": "zxb9lqAkLb-i"
      }
    },
    {
      "cell_type": "code",
      "source": [
        "sorted_matches = sorted(raw_matches, key=sorting_key) #This will do conventional, ascending sorts but will first look at time of\n",
        "print(sorted_matches)"
      ],
      "metadata": {
        "id": "KJKpFgy_Lg9W"
      },
      "execution_count": null,
      "outputs": []
    },
    {
      "cell_type": "markdown",
      "source": [
        "Explain how a sorting key was useful for this. Choose another set of data from our robot match to explain how you might apply the sorting function"
      ],
      "metadata": {
        "id": "EnVT2FYOMA3_"
      }
    },
    {
      "cell_type": "markdown",
      "source": [
        "#Part C — Detect cross-team mentor conflicts (duplicate emails)\n",
        "\n",
        "Using the team data, find any emails that appear on multiple teams.\n",
        "*   **Deliverable**: produce a report like {\"ada@hudsonhs.org\": {\"HHS-1729\",\"MRB-88\"}}. Where we can see that ada@hudsonhs.org was listed for two different teams\n",
        "*   **Hint**: Think about how we can use sets and unions/intersections for this\n"
      ],
      "metadata": {
        "id": "V62qMiGnKxZJ"
      }
    },
    {
      "cell_type": "code",
      "source": [],
      "metadata": {
        "id": "tFeSvq2zNCFt"
      },
      "execution_count": null,
      "outputs": []
    },
    {
      "cell_type": "markdown",
      "source": [
        "Explain your work and how sets were used"
      ],
      "metadata": {
        "id": "d6kc1jWfNCec"
      }
    },
    {
      "cell_type": "markdown",
      "source": [
        "#Part D — Build standings with real aggregation tools\n",
        "\n",
        "Compute **total points by team** across all **raw_scores**, then list the top 3. Handle ties by breaking ties with **team_id** alphabetically.\n",
        "\n",
        "\n",
        "\n",
        "*   **Deliverable**: an ordered list like [(\"FRM-101\", 56), (\"MRB-88\", 71), ...].\n",
        "\n",
        "Write your code in chunks with short explanations of what you are doing after each chunk."
      ],
      "metadata": {
        "id": "FGh8WsJaNCqS"
      }
    },
    {
      "cell_type": "code",
      "source": [],
      "metadata": {
        "id": "hnnHpes7NcRr"
      },
      "execution_count": null,
      "outputs": []
    },
    {
      "cell_type": "markdown",
      "source": [],
      "metadata": {
        "id": "YPLoRCsSNeGp"
      }
    },
    {
      "cell_type": "code",
      "source": [],
      "metadata": {
        "id": "joGY1Q5nNeU2"
      },
      "execution_count": null,
      "outputs": []
    },
    {
      "cell_type": "markdown",
      "source": [],
      "metadata": {
        "id": "VtffxJdYNelP"
      }
    },
    {
      "cell_type": "markdown",
      "source": [
        "#Part E — Team activity summary (grouping)\n",
        "\n",
        "Produce, for each team, a summary dict:\n",
        "\n",
        "```\n",
        "{\n",
        "  \"HHS-1729\": {\n",
        "    \"school\": \"Hudson HS\",\n",
        "    \"mentors\": [\"Ada\",\"Lin\"],\n",
        "    \"matches\": 3,\n",
        "    \"total_points\": 57,\n",
        "    \"workshops\": [\"PID\", \"VIS\"]\n",
        "  },\n",
        "  ...\n",
        "}\n",
        "```\n"
      ],
      "metadata": {
        "id": "CVvBLr2QOEG8"
      }
    },
    {
      "cell_type": "code",
      "source": [],
      "metadata": {
        "id": "LBPwycB5OLGX"
      },
      "execution_count": null,
      "outputs": []
    },
    {
      "cell_type": "code",
      "source": [],
      "metadata": {
        "id": "OMKQYIfFOZAl"
      },
      "execution_count": null,
      "outputs": []
    }
  ]
}