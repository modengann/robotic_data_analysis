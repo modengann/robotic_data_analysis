{
  "cells": [
    {
      "cell_type": "markdown",
      "metadata": {
        "id": "nKdphsd-PE8H"
      },
      "source": [
        "#Robotics Data Analyst\n",
        "In this activity, you are taking on the role of a Data Analyst for a Robotics Tournament. Your job is to clean up messy information about teams, matches, scores, and workshops so the event can run smoothly. You’ll decide which Python data structures (lists, dictionaries, tuples, and sets) are the best tools for different tasks—like sorting schedules, adding up scores, or checking for mistakes. Just like a real analyst, you’ll need to think carefully about how to organize data so it’s accurate, efficient, and easy to use.<br><br>\n",
        "\n",
        "Your audience for this is someone who doesn't know about code, but wants to see how you got your results. They don't just want to see you write a paper with no supporting code to back it up, but they also don't want to see a big block of code with no support explanation. <br><br>\n",
        "\n",
        "A key part of your job is to do the analysis, but also to explain your work. The final report should be a very intentional mix of code with text. **You should not have giant blocks of code**. For example, a function should be its own code block. Every 4-6 lines should include some explanation of what you are doing. That's just a rough estimate though. Think about your code in terms of discreet chunks. Each chunk should be a code block."
      ]
    },
    {
      "cell_type": "code",
      "execution_count": null,
      "metadata": {
        "id": "6B5UsY3QFZSP"
      },
      "outputs": [],
      "source": [
        "# teams.csv-like rows you parsed already:\n",
        "raw_teams = [\n",
        "    [\"HHS-1729\", \"Hudson HS\", \"Ada\", \"ada@hudsonhs.org\", \"Lin\", \"lin@hudsonhs.org\"],\n",
        "    [\"FRM-101\",  \"Framingham HS\", \"Sam\", \"sam@frhs.org\", \"Tess\", \"tess@frhs.org\"],\n",
        "    [\"MRB-88\",   \"Marlborough HS\", \"Kai\", \"kai@mrbhs.org\", \"Ada\", \"ada@hudsonhs.org\"], \n",
        "    [\"WBY-77\",   \"Westborough HS\", \"Ira\", \"ira@wby.org\", \"Mo\", \"mo@wby.org\"],\n",
        "]\n",
        "\n",
        "# provisional match schedule (field, start_time, teamA, teamB)\n",
        "# Times are ISO strings in the format YYYY-MM-DDTHH:MM\n",
        "randomized_matches = [\n",
        "    ('Field-2', '2025-09-27T12:30', 'FRM-101', 'WBY-77'),\n",
        "    ('Field-1', '2025-09-27T16:15', 'FRM-101', 'HHS-1729'),\n",
        "    ('Field-2', '2025-09-27T11:45', 'WBY-77', 'FRM-101'),\n",
        "    ('Field-1', '2025-09-27T11:00', 'HHS-1729', 'MRB-88'),\n",
        "    ('Field-2', '2025-09-27T17:00', 'FRM-101', 'MRB-88'),\n",
        "    ('Field-1', '2025-09-27T15:30', 'WBY-77', 'HHS-1729'),\n",
        "    ('Field-1', '2025-09-27T17:45', 'MRB-88', 'WBY-77'),\n",
        "    ('Field-2', '2025-09-27T17:45', 'HHS-1729', 'FRM-101'),\n",
        "    ('Field-2', '2025-09-27T18:30', 'MRB-88', 'HHS-1729'),\n",
        "    ('Field-1', '2025-09-27T13:15', 'HHS-1729', 'WBY-77'),\n",
        "    ('Field-2', '2025-09-27T10:15', 'MRB-88', 'WBY-77'),\n",
        "    ('Field-2', '2025-09-27T15:30', 'MRB-88', 'FRM-101'),\n",
        "    ('Field-2', '2025-09-27T14:00', 'WBY-77', 'MRB-88'),\n",
        "    ('Field-1', '2025-09-27T17:00', 'HHS-1729', 'WBY-77'),\n",
        "    ('Field-1', '2025-09-27T14:45', 'HHS-1729', 'MRB-88'),\n",
        "    ('Field-2', '2025-09-27T16:15', 'WBY-77', 'MRB-88'),\n",
        "    ('Field-1', '2025-09-27T09:30', 'WBY-77', 'HHS-1729'),\n",
        "    ('Field-1', '2025-09-27T12:30', 'MRB-88', 'HHS-1729'),\n",
        "    ('Field-2', '2025-09-27T14:45', 'FRM-101', 'WBY-77'),\n",
        "    ('Field-2', '2025-09-27T13:15', 'MRB-88', 'FRM-101'),\n",
        "    ('Field-2', '2025-09-27T09:30', 'MRB-88', 'FRM-101'),\n",
        "    ('Field-1', '2025-09-27T19:15', 'HHS-1729', 'FRM-101'),\n",
        "    ('Field-1', '2025-09-27T14:00', 'FRM-101', 'HHS-1729'),\n",
        "    ('Field-1', '2025-09-27T10:15', 'HHS-1729', 'FRM-101'),\n",
        "    ('Field-1', '2025-09-27T18:30', 'WBY-77', 'FRM-101'),\n",
        "]\n",
        "\n",
        "# reported scores (field, time, team_id, points)\n",
        "raw_scores = [\n",
        "    (\"Field-1\", \"2025-09-27T09:30\", \"WBY-77\", 22, \"HHS-1729\", 18),\n",
        "    (\"Field-2\", \"2025-09-27T09:30\", \"MRB-88\", 25, \"FRM-101\", 25),\n",
        "    (\"Field-1\", \"2025-09-27T10:15\", \"HHS-1729\", 17, \"FRM-101\", 31),\n",
        "    (\"Field-2\", \"2025-09-27T10:15\", \"MRB-88\", 27, \"WBY-77\", 23),\n",
        "    (\"Field-1\", \"2025-09-27T11:00\", \"HHS-1729\", 22, \"MRB-88\", 19),\n",
        "\n",
        "    (\"Field-2\", \"2025-09-27T11:45\", \"WBY-77\", 26, \"FRM-101\", 24),\n",
        "    (\"Field-1\", \"2025-09-27T12:30\", \"MRB-88\", 28, \"HHS-1729\", 30),\n",
        "    (\"Field-2\", \"2025-09-27T12:30\", \"FRM-101\", 24, \"WBY-77\", 22),\n",
        "    (\"Field-1\", \"2025-09-27T13:15\", \"HHS-1729\", 19, \"WBY-77\", 23),\n",
        "    (\"Field-2\", \"2025-09-27T13:15\", \"MRB-88\", 32, \"FRM-101\", 29),\n",
        "\n",
        "    (\"Field-1\", \"2025-09-27T14:00\", \"FRM-101\", 27, \"HHS-1729\", 25),\n",
        "    (\"Field-2\", \"2025-09-27T14:00\", \"WBY-77\", 20, \"MRB-88\", 22),\n",
        "    (\"Field-1\", \"2025-09-27T14:45\", \"HHS-1729\", 24, \"MRB-88\", 26),\n",
        "    (\"Field-2\", \"2025-09-27T14:45\", \"FRM-101\", 18, \"WBY-77\", 17),\n",
        "    (\"Field-1\", \"2025-09-27T15:30\", \"WBY-77\", 28, \"HHS-1729\", 31),\n",
        "\n",
        "    (\"Field-2\", \"2025-09-27T15:30\", \"MRB-88\", 24, \"FRM-101\", 26),\n",
        "    (\"Field-1\", \"2025-09-27T16:15\", \"FRM-101\", 33, \"HHS-1729\", 20),\n",
        "    (\"Field-2\", \"2025-09-27T16:15\", \"WBY-77\", 23, \"MRB-88\", 27),\n",
        "    (\"Field-1\", \"2025-09-27T17:00\", \"HHS-1729\", 29, \"WBY-77\", 27),\n",
        "    (\"Field-2\", \"2025-09-27T17:00\", \"FRM-101\", 22, \"MRB-88\", 24),\n",
        "\n",
        "    (\"Field-1\", \"2025-09-27T17:45\", \"MRB-88\", 21, \"WBY-77\", 19),\n",
        "    (\"Field-2\", \"2025-09-27T17:45\", \"HHS-1729\", 20, \"FRM-101\", 18),\n",
        "    (\"Field-1\", \"2025-09-27T18:30\", \"WBY-77\", 28, \"FRM-101\", 26),\n",
        "    (\"Field-2\", \"2025-09-27T18:30\", \"MRB-88\", 25, \"HHS-1729\", 21),\n",
        "    (\"Field-1\", \"2025-09-27T19:15\", \"HHS-1729\", 26, \"FRM-101\", 24),\n",
        "]\n",
        "\n",
        "# workshop signups: participant_email, workshop_code\n",
        "raw_workshops = [\n",
        "    (\"ada@hudsonhs.org\", \"VIS\"), \n",
        "    (\"lin@hudsonhs.org\", \"PID\"),\n",
        "    (\"sam@frhs.org\", \"PID\"), \n",
        "    (\"tess@frhs.org\", \"PID\"),\n",
        "    (\"kai@mrbhs.org\", \"PID\"), \n",
        "    (\"ira@wby.org\", \"VIS\"), \n",
        "    (\"mo@wby.org\", \"VIS\"),\n",
        "    (\"ada@hudsonhs.org\", \"PID\"),  \n",
        "]\n",
        "\n",
        "# workshop capacities (could also be given as flat CSV rows later)\n",
        "workshop_caps = [\n",
        "    (\"PID\", \"4\"),\n",
        "    (\"VIS\", \"3\")\n",
        "]"
      ]
    },
    {
      "cell_type": "markdown",
      "metadata": {
        "id": "x8CLGqoFFg1u"
      },
      "source": [
        "Whenever you are getting to work with data, you should first explore it. We will get more tools for doing this as we learn more, but we can still investigate this. In the space below, you have a couple different coding fields to work with. In that space, I want you to show evidence that you have explored these lists. That can be:\n",
        "\n",
        "\n",
        "*   Looping through the lists printing items\n",
        "*   Using type() to confirm data types\n",
        "*   Using other tools such as len(), min(), max() to find key data points\n",
        "*   Looking at individual dictionaries to confirm that you know how they work. <br>\n",
        "You can add additional entries by hitting the 'b' key. After each code block, insert a short written block to explain what you found.\n",
        "\n",
        "\n",
        "\n",
        "\n"
      ]
    },
    {
      "cell_type": "code",
      "execution_count": null,
      "metadata": {
        "id": "IBegG1wHGs91"
      },
      "outputs": [],
      "source": []
    },
    {
      "cell_type": "markdown",
      "metadata": {
        "id": "Nm1dcAtoG3gf"
      },
      "source": []
    },
    {
      "cell_type": "code",
      "execution_count": null,
      "metadata": {
        "id": "91svj1uKGiZ0"
      },
      "outputs": [],
      "source": []
    },
    {
      "cell_type": "markdown",
      "metadata": {
        "id": "5PfhS3aKG4Uk"
      },
      "source": []
    },
    {
      "cell_type": "code",
      "execution_count": null,
      "metadata": {
        "id": "ebQD7jtrGjg3"
      },
      "outputs": [],
      "source": []
    },
    {
      "cell_type": "markdown",
      "metadata": {
        "id": "0JpMQdUXHGEs"
      },
      "source": []
    },
    {
      "cell_type": "code",
      "execution_count": null,
      "metadata": {
        "id": "u_xTH1S9G6jN"
      },
      "outputs": [],
      "source": []
    },
    {
      "cell_type": "markdown",
      "metadata": {
        "id": "ghDQjwkrHEgE"
      },
      "source": [
        "#Part A — Choose representations (immutability vs. mutability)\n",
        "\n",
        "1. Participants/teams: Convert each raw_teams row into a record you won’t accidentally mutate (e.g., for stable IDs).\n",
        "*   The data structure should have information about each school: team number, high school name, grouped mentor 1 information, grouped mentor 2 information\n",
        "*   **Deliverable**: a collection of team records; **justify** your data structure choice."
      ]
    },
    {
      "cell_type": "code",
      "execution_count": null,
      "metadata": {
        "id": "OVHDz11xIL1-"
      },
      "outputs": [],
      "source": [
        "#Complete #1 here"
      ]
    },
    {
      "cell_type": "markdown",
      "metadata": {
        "id": "KEXLowQCIPaA"
      },
      "source": [
        "Use this space to justify why tuples made sense"
      ]
    },
    {
      "cell_type": "markdown",
      "metadata": {},
      "source": [
        "\n",
        "2. Build a fast lookup from team code → school/mentors.\n",
        "*   **Deliverable**: a dictionary mapping `team_id` to a collection of information about that team. Information included should: which school is represented by the id and the team's mentors. We'll deal with points and records later"
      ]
    },
    {
      "cell_type": "code",
      "execution_count": null,
      "metadata": {
        "id": "QM9OgkLVIMW3"
      },
      "outputs": [],
      "source": [
        "#Complete #2 here"
      ]
    },
    {
      "cell_type": "markdown",
      "metadata": {
        "id": "6tZvRBazIUU8"
      },
      "source": [
        "Use this space to justify your choice in data structure"
      ]
    },
    {
      "cell_type": "markdown",
      "metadata": {
        "id": "MtDKvyYoIaTq"
      },
      "source": [
        "#Part B - Sort a mixed schedule\n",
        "\n",
        "Clean and sort `raw_matches` by **start_time** then **field** (so ties on time are broken alphabetically by field). We'll talk a bit more about how to do that below.\n",
        "\n",
        "*   **Deliverable**: a list of normalized match tuples"
      ]
    },
    {
      "cell_type": "markdown",
      "metadata": {},
      "source": [
        "We should see something like below afte we are done:  \n",
        "\n",
        "(\"Field-1\", \"2025-09-27T09:30\", \"HHS-1729\", \"WBY-77\"),\n",
        "(\"Field-2\", \"2025-09-27T09:30\", \"FRM-101\", \"MRB-88\"),\n",
        "(\"Field-1\", \"2025-09-27T10:15\", \"FRM-101\", \"HHS-1729\"),\n",
        "(\"Field-2\", \"2025-09-27T10:15\", \"MRB-88\", \"WBY-77\"),\n",
        "(\"Field-1\", \"2025-09-27T11:00\", \"MRB-88\", \"HHS-1729\")"
      ]
    },
    {
      "cell_type": "markdown",
      "metadata": {
        "id": "zIl51MpFKSyq"
      },
      "source": [
        "In this task, we need to do multi-sorting. We might find that two matches have the same start time, which could cause a jam in our sorting. We need to break that jam by sorting using two factors. We can do that by creating an extra function to help us:\n"
      ]
    },
    {
      "cell_type": "code",
      "execution_count": null,
      "metadata": {
        "id": "rp839VzxK4lj"
      },
      "outputs": [],
      "source": [
        "def sorting_key(match):\n",
        "  #Return a tuple where the first element is the time of the match and the second is the field number\n",
        "  pass"
      ]
    },
    {
      "cell_type": "markdown",
      "metadata": {
        "id": "eByhciXyLtxQ"
      },
      "source": [
        "If done correctly, we should see `(\"2025-09-27T09:30\", \"Field-2\")`as the output from the function below:"
      ]
    },
    {
      "cell_type": "code",
      "execution_count": null,
      "metadata": {
        "id": "1BQHxzf1L7YS"
      },
      "outputs": [],
      "source": [
        "print(sorting_key(raw_matches[0]))"
      ]
    },
    {
      "cell_type": "markdown",
      "metadata": {
        "id": "zxb9lqAkLb-i"
      },
      "source": [
        "We can then apply this function to our sorting method:"
      ]
    },
    {
      "cell_type": "code",
      "execution_count": null,
      "metadata": {
        "id": "KJKpFgy_Lg9W"
      },
      "outputs": [],
      "source": [
        "sorted_matches = sorted(raw_matches, key=sorting_key) #This will do conventional, ascending sorts but will first look at time of\n",
        "print(sorted_matches)"
      ]
    },
    {
      "cell_type": "markdown",
      "metadata": {
        "id": "EnVT2FYOMA3_"
      },
      "source": [
        "Explain how a sorting key was useful for this."
      ]
    },
    {
      "cell_type": "code",
      "execution_count": null,
      "metadata": {},
      "outputs": [],
      "source": []
    },
    {
      "cell_type": "markdown",
      "metadata": {
        "id": "V62qMiGnKxZJ"
      },
      "source": [
        "#Part C — Detect cross-team mentor conflicts (duplicate emails)\n",
        "\n",
        "Using the team data, find any emails that appear on multiple teams.\n",
        "*   **Deliverable**: produce a report like \"xxxx@xxxxx.org\": {\"xxx-####\",\"xxx-####\"}}. Where we can see that xxxx@xxxxx.org was listed for two different teams\n",
        "\n",
        "Complete this using code that could be applied to a different data set, for example, one with more names. \n"
      ]
    },
    {
      "cell_type": "code",
      "execution_count": null,
      "metadata": {
        "id": "tFeSvq2zNCFt"
      },
      "outputs": [],
      "source": []
    },
    {
      "cell_type": "markdown",
      "metadata": {
        "id": "d6kc1jWfNCec"
      },
      "source": [
        "Explain your work and how sets were used"
      ]
    },
    {
      "cell_type": "markdown",
      "metadata": {
        "id": "FGh8WsJaNCqS"
      },
      "source": [
        "#Part D — Build standings with real aggregation tools\n",
        "\n",
        "Compute **total points by team** across all **raw_scores**, then list the top 3. Handle ties by breaking ties with **team_id** alphabetically.\n",
        "\n",
        "\n",
        "\n",
        "*   **Deliverable**: an ordered list like [(\"FRM-101\", 56), (\"MRB-88\", 71), ...]."
      ]
    },
    {
      "cell_type": "markdown",
      "metadata": {},
      "source": [
        "A tool that can be useful for us is:"
      ]
    },
    {
      "cell_type": "code",
      "execution_count": null,
      "metadata": {},
      "outputs": [],
      "source": [
        "for match in raw_scores:\n",
        "    field, time, teamA, ptsA, teamB, ptsB = match\n",
        "    \n",
        "    print(f\"The match was played on {field} at {time} {teamA} had {ptsA} and {teamB} had {ptsB}\")"
      ]
    },
    {
      "cell_type": "markdown",
      "metadata": {},
      "source": [
        "This will extract six variables from each match. In this case I just printed the contents, but there could be more valuable uses!"
      ]
    },
    {
      "cell_type": "markdown",
      "metadata": {},
      "source": [
        "Write your code in chunks with short explanations of what you are doing after each chunk."
      ]
    },
    {
      "cell_type": "code",
      "execution_count": null,
      "metadata": {
        "id": "hnnHpes7NcRr"
      },
      "outputs": [],
      "source": []
    },
    {
      "cell_type": "markdown",
      "metadata": {
        "id": "YPLoRCsSNeGp"
      },
      "source": []
    },
    {
      "cell_type": "code",
      "execution_count": null,
      "metadata": {
        "id": "joGY1Q5nNeU2"
      },
      "outputs": [],
      "source": []
    },
    {
      "cell_type": "markdown",
      "metadata": {
        "id": "VtffxJdYNelP"
      },
      "source": []
    },
    {
      "cell_type": "markdown",
      "metadata": {
        "id": "CVvBLr2QOEG8"
      },
      "source": [
        "#Part E — Team activity summary (grouping)\n",
        "\n",
        "Produce, for each team, a summary dict:\n",
        "\n",
        "```\n",
        "{\n",
        "  \"HHS-1729\": {\n",
        "    \"school\": \"Hudson HS\",\n",
        "    \"mentors\": [\"Ada\",\"Lin\"],\n",
        "    \"matches\": 3,\n",
        "    \"total_points\": 57,\n",
        "    \"workshops\": [\"PID\", \"VIS\"]\n",
        "  },\n",
        "  ...\n",
        "}\n",
        "```\n"
      ]
    },
    {
      "cell_type": "code",
      "execution_count": null,
      "metadata": {
        "id": "LBPwycB5OLGX"
      },
      "outputs": [],
      "source": []
    },
    {
      "cell_type": "code",
      "execution_count": null,
      "metadata": {
        "id": "OMKQYIfFOZAl"
      },
      "outputs": [],
      "source": []
    }
  ],
  "metadata": {
    "colab": {
      "provenance": []
    },
    "kernelspec": {
      "display_name": "Python 3",
      "name": "python3"
    },
    "language_info": {
      "name": "python"
    }
  },
  "nbformat": 4,
  "nbformat_minor": 0
}
